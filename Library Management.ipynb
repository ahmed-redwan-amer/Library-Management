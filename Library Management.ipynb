{
 "cells": [
  {
   "cell_type": "code",
   "execution_count": 1,
   "metadata": {},
   "outputs": [],
   "source": [
    "#المشروع عبارة عن مكتبة مكونة من 3 ادوار مكتبية\n",
    "#مسجل فيها كتاب احصاء (للتجربة علية)\n",
    "#كل كتاب لة مجموعة من البيانات(اسم المولف, تاريخ الاصدار,مكان التخزين)\n",
    "#هنطلب من اليوزر 3 حاجات:\n",
    "#هل تريد تخزين كتاب(وهطلب منة البيانات للكتاب)؟ هل تريد رؤية الكتب الموجودة بالمكتبة؟ هل تريد رؤية تفاصيل معينة حول كتاب معين؟\n",
    "#اول حاجة هعمل list طبعا بالادوار اللى هيتم تسجيل الكتاب بداخلها\n",
    "floor=(\"firstfloor\",\"secondfloor\",\"thirdfloor\")\n",
    "#هنسجل كتاب إحصاء وهخزنة فى الدور الاول : الindex 0 \n",
    "books={\"stat\":{\"auther\":\"ahmed\",\"issuedate\":\"1999\",\"stored\":floor[0]}}"
   ]
  },
  {
   "cell_type": "code",
   "execution_count": 2,
   "metadata": {},
   "outputs": [
    {
     "data": {
      "text/plain": [
       "{'stat': {'auther': 'ahmed', 'issuedate': '1999', 'stored': 'firstfloor'}}"
      ]
     },
     "execution_count": 2,
     "metadata": {},
     "output_type": "execute_result"
    }
   ],
   "source": [
    "#تعالوا نتاكد ان الكتاب تم تسجيلة(هطلب كل كتب المكتبة)\n",
    "books"
   ]
  },
  {
   "cell_type": "code",
   "execution_count": 3,
   "metadata": {},
   "outputs": [
    {
     "data": {
      "text/plain": [
       "{'auther': 'ahmed', 'issuedate': '1999', 'stored': 'firstfloor'}"
      ]
     },
     "execution_count": 3,
     "metadata": {},
     "output_type": "execute_result"
    }
   ],
   "source": [
    "#طيب تعالوا نتاكد ان كتاب الstat تم تسجيل بياناتة بشكل صحيح(هطلب كتاب الstat) بس\n",
    "books[\"stat\"]"
   ]
  },
  {
   "cell_type": "code",
   "execution_count": 4,
   "metadata": {},
   "outputs": [
    {
     "data": {
      "text/plain": [
       "'ahmed'"
      ]
     },
     "execution_count": 4,
     "metadata": {},
     "output_type": "execute_result"
    }
   ],
   "source": [
    "#طيب دلوقتى تعالى نتاكد من بيانات داخل كتاب الstat (هطلب مثلا الauther) بس\n",
    "books[\"stat\"][\"auther\"]"
   ]
  },
  {
   "cell_type": "code",
   "execution_count": 5,
   "metadata": {},
   "outputs": [],
   "source": [
    "#طيب دلوقتى انا عايز اعمل list ل function اعرف اخزن فيها الكتب الجديدة من المستخدم\n",
    "#يعنى هنعمل function ب addnew وبعدين هطلب من اليوزر انة يدخل ليا نفس التفاصيل (ك list) لكتاب الاحصاء(اسم المولف,تاريخ الاصدار, مكان تخزينة)\n",
    "#هنعمل function وهخليها list بتحتوى على اسم الكتاب واسم المؤلف وتاريخ الاصدار والتخزين\n",
    "def addnew(book_name,auther_name,issue,store):\n",
    "#دلوقتى محتاج اضيف فى اخر الlist بتاعة books الكتب الجديد\n",
    "#هنعملها ب setdefault عشان اعرف اضيف فى اخر الlist قايمة للكتاب الجديد الbook_name\n",
    "#لكل list بداخلها key:value ..الkey هيا الbook_name الvalue فاضية\n",
    "    books.setdefault(book_name,{})\n",
    "#بعد ما عملت list اسمها book_name عايز \"أضيف\" جواها list ب(اسم الكتاب,اسم المؤلف,تاريخ الاصدار,التخزين)\n",
    "#هنا انا عايز اليوزر يدخل على الvalue (للكتاب اللى تم ادخالة) اسم المؤلف,تاريخ الاصدار,مكان التخزين\n",
    "    books[book_name].setdefault(\"auther\",auther_name)\n",
    "    books[book_name].setdefault(\"issuedate\",issue)\n",
    "#دلوقتى هوة بيشتغل ازاى ؟\n",
    "#بقولة book.setdfault : اعملة list اسمها books وخد بالك هضيف على الlist دى key اسمها book_name الvalue بتاعها هتكون list وبعدين قولتلة الlist books اللى الkey بتاعها book_name ضيف value مثلا اسمها auther وجوة الauther هتضيف auther_name \n",
    "#طيب لما اليوزر يدخل ليا رقم ازاى اعرف اخزنة ك index داخل الfirst or second or third floor\n",
    "#بدل ما اقولة انت عندك vlaue اسمة store خزن جواه عالطول..لا هقولة انت عندك متغير (معرف مسبقا) اسمة floor وافتحلة قوس مربع (عشان يفهم ان التخزين جواه هيكون index) وبعدها هقولة اى رقم يدخل ل store سجلة ك index جوة floor\n",
    "    books[book_name].setdefault(\"stored\",floor[store])"
   ]
  },
  {
   "cell_type": "code",
   "execution_count": 9,
   "metadata": {},
   "outputs": [
    {
     "name": "stdout",
     "output_type": "stream",
     "text": [
      "do U want to add a new book,plz enter'Y' OR 'NO': Y\n",
      "plz enter the book name: python\n",
      "plz enter the auther name: ahmed\n",
      "plz enter the issue date: 2020\n",
      "plz enter where you want to store in which foor: 1\n",
      "do U want to add a new book,plz enter'Y' OR 'NO': Y\n",
      "plz enter the book name: book\n",
      "plz enter the auther name: khaled\n",
      "plz enter the issue date: 1996\n",
      "plz enter where you want to store in which foor: 2\n",
      "do U want to add a new book,plz enter'Y' OR 'NO': No\n"
     ]
    }
   ],
   "source": [
    "'''\n",
    "#طيب دلوقتى انا عايز اليوزر يدخل بقى فى المكتبة الكتب بتاعتة بتفاصيلها\n",
    "book_name=input(\"plz enter the book name: \")\n",
    "auther_name=input(\"plz enter the auther's name: \")\n",
    "issue=input(\"plz enter the issue date : \")\n",
    "store=int(input(\"plz enter the where to store: \"))\n",
    "#ولازم اعمل call للfunction  فى الاخر عشان يتم تخزينها فى الlist\n",
    "addnew(book_name,auther_name,issue,store)\n",
    "'''\n",
    "#بس طبعا احنا مش عايزين نعمل كدة احنا عايزين نعمل الاتى: \n",
    "#دلوقتى هنتكلم مع اليوزر واقعد اسالة لو عايز تضيف كتاب اكتب نعم او لا او لو عايز تعرف تفاصيلة اكتب نعم او لا وهكذا \n",
    "#خلينا الtrue==true عشان يدخل فى كل الحالات داخل الloop \n",
    "while True==True:\n",
    "#بسال اليوزر انت عايز تضيف كتاب اكتب Y OR NO\n",
    "    need=input(\"do U want to add a new book,plz enter'Y' OR 'NO': \")\n",
    " #لو كتب Y هيدخل جوة الloop دة\n",
    "    if need==\"Y\":\n",
    "        book_name=input(\"plz enter the book name: \")\n",
    "        auther_name=input(\"plz enter the auther name: \")\n",
    "        issue=input(\"plz enter the issue date: \")\n",
    "        store=int(input(\"plz enter where you want to store in which foor: \"))\n",
    "        addnew(book_name,auther_name,issue,store)\n",
    "#لو كتب NO هيدخل جوة الloop دة\n",
    "    elif need==\"NO\":\n",
    "#وساعتها هسالة بقى طب انت عايز تشوف الكتب الموجودة\n",
    "        need1=input(\"Do U want to see books listed,Plz enter 'Y' OR 'NO': \")\n",
    "#لو كتب Y هيدخل جوة الloop دة\n",
    "        if need1==\"Y\":\n",
    "#وهقول للcompiler اطبعلى الlist بتاعة الbooks كلها\n",
    "            print(books)\n",
    "#لو كتب اى حاجة غير Y هيدخل جوة الloop دة\n",
    "        else:\n",
    "#وساعتها هسالة انت عايز طيب تعرف تفاصيل عن كتاب معين: اكتب Y OR NO\n",
    "            need2=input(\"Do U want a specefic info about certain book,Plz enter 'Y' OR 'NO': \")\n",
    "#لو كتب Y هيدخل جوة الloop دة\n",
    "            if need2==\"Y\":\n",
    "#وساعتها هسالة انت عايز تعرف تفاصيل عن كتاب اسمة اية\n",
    "                nameoofthebook=input(\"Plz enter the name of the book: \")\n",
    "#هنا بقول للكومبيلر خش جوة الlist وهات اسم الكتاب بامر .get ..بس لو اسم الكتاب لاقيتة مش موجود وظهر ليك(بكلم الكومبيلر) none اطبع لليوزر (اتاكد من اسم الكتاب تانى)\n",
    "                if books.get(nameoofthebook)==None:\n",
    "                   print(\"plz chech UR Name\") \n",
    "#وبقول للكومبيلر اى حاجة غير كدة (يعنى لو لاقيت الكتاب جوة الlist) ..فاطبع الكتاب من الlist بتاعة الbooks \n",
    "                else:\n",
    "                    print(books.get(nameoofthebook))\n",
    "#غير كدة اطلع من الloop\n",
    "    else:\n",
    "        break"
   ]
  },
  {
   "cell_type": "code",
   "execution_count": null,
   "metadata": {},
   "outputs": [],
   "source": []
  }
 ],
 "metadata": {
  "kernelspec": {
   "display_name": "Python 3",
   "language": "python",
   "name": "python3"
  },
  "language_info": {
   "codemirror_mode": {
    "name": "ipython",
    "version": 3
   },
   "file_extension": ".py",
   "mimetype": "text/x-python",
   "name": "python",
   "nbconvert_exporter": "python",
   "pygments_lexer": "ipython3",
   "version": "3.7.3"
  }
 },
 "nbformat": 4,
 "nbformat_minor": 4
}
